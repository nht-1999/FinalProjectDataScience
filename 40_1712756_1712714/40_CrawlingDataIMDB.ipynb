{
 "metadata": {
  "language_info": {
   "codemirror_mode": {
    "name": "ipython",
    "version": 3
   },
   "file_extension": ".py",
   "mimetype": "text/x-python",
   "name": "python",
   "nbconvert_exporter": "python",
   "pygments_lexer": "ipython3",
   "version": "3.9.1-final"
  },
  "orig_nbformat": 2,
  "kernelspec": {
   "name": "python3",
   "display_name": "Python 3.9.1 64-bit",
   "metadata": {
    "interpreter": {
     "hash": "45e1e1e43ecfe9041558af26315adc6fe2500986b8b15512c565abd669f04797"
    }
   }
  }
 },
 "nbformat": 4,
 "nbformat_minor": 2,
 "cells": [
  {
   "source": [
    "## Đồ án cuối kỳ môn Nhập môn Khoa học dữ liệu nhóm 40 gồm 2 thành viên:\n",
    "- Phạm Như Quyền - 1712714\n",
    "- Nguyễn Hữu Thắng - 1712756"
   ],
   "cell_type": "markdown",
   "metadata": {}
  },
  {
   "source": [
    "## GIỚI THIỆU ĐỀ TÀI CUỐI KỲ:\n",
    "IMDb (Internet movie database) là một cơ sở dữ liệu trực tuyến chứa các thông tin liên quan đến các bộ phim, chương trình truyền hình, trò chơi điện tử và các nội dung được phát trực tuyến khác.\n",
    "\n",
    "Đồ án này dựa trên các thông tin liên quan đến các bộ phim như điểm đánh giá, nội dung tóm tắt, năm sản xuất đã thu thập được trên IMDb để bắt đầu tìm hiểu nghiên cứu về các bộ phim cũng như đưa ra một mô hình để thực hiện dự đoán ratings các bộ phim thông qua 1 số yếu tố của bộ phim đó.\n",
    "\n",
    "Đồ án được thực hiện gồm 3 bước chính:\n",
    "\n",
    "Bước 1 : Thu thập dữ liệu sẽ được thực hiện trên tệp notebook \"40_CrawlingDataIMDB.ipynb\", sau khi thu thập, dữ liệu sẽ được lưu vào tệp \"movie_IMDB.csv\"\n",
    "\n",
    "Bước 2: Khám phá và tiền xử lý dữ liệu.\n",
    "\n",
    "Bước 3: Xây dựng mô hình\n",
    "\n",
    "Bước 2,3 sẽ được thực hiện trong file \"Explore_Preprocessing_BuildModel_IMDbData.ipynb\"\n",
    "\n",
    "Nguồn thông tin : https://en.wikipedia.org/wiki/IMDb"
   ],
   "cell_type": "markdown",
   "metadata": {}
  },
  {
   "source": [
    "## IMPORT THƯ VIỆN PYTHON CẦN THIẾT"
   ],
   "cell_type": "markdown",
   "metadata": {}
  },
  {
   "cell_type": "code",
   "execution_count": 13,
   "metadata": {},
   "outputs": [],
   "source": [
    "import pandas as pd\n",
    "import numpy as np\n",
    "import requests\n",
    "from bs4 import BeautifulSoup"
   ]
  },
  {
   "source": [
    "### THU THẬP DỮ LIỆU TỪ TRANG WEB IMDB BẰNG CÁCH PARSE HTML\n",
    "Nguồn dữ liệu : https://www.imdb.com/search/title/?groups=top_1000&count=100&start=1&ref_=adv_nxt"
   ],
   "cell_type": "markdown",
   "metadata": {}
  },
  {
   "cell_type": "code",
   "execution_count": 14,
   "metadata": {},
   "outputs": [
    {
     "output_type": "stream",
     "name": "stdout",
     "text": [
      "https://www.imdb.com/search/title/?groups=top_1000&count=100&start=1&ref_=adv_nxt\n",
      "100\n",
      "https://www.imdb.com/search/title/?groups=top_1000&count=100&start=101&ref_=adv_nxt\n",
      "100\n",
      "https://www.imdb.com/search/title/?groups=top_1000&count=100&start=201&ref_=adv_nxt\n",
      "100\n",
      "https://www.imdb.com/search/title/?groups=top_1000&count=100&start=301&ref_=adv_nxt\n",
      "100\n",
      "https://www.imdb.com/search/title/?groups=top_1000&count=100&start=401&ref_=adv_nxt\n",
      "100\n",
      "https://www.imdb.com/search/title/?groups=top_1000&count=100&start=501&ref_=adv_nxt\n",
      "100\n",
      "https://www.imdb.com/search/title/?groups=top_1000&count=100&start=601&ref_=adv_nxt\n",
      "100\n",
      "https://www.imdb.com/search/title/?groups=top_1000&count=100&start=701&ref_=adv_nxt\n",
      "100\n",
      "https://www.imdb.com/search/title/?groups=top_1000&count=100&start=801&ref_=adv_nxt\n",
      "100\n",
      "https://www.imdb.com/search/title/?groups=top_1000&count=100&start=901&ref_=adv_nxt\n",
      "100\n"
     ]
    }
   ],
   "source": [
    "page = 1\n",
    "movie_df = pd.DataFrame()\n",
    "while True:\n",
    "    url = 'https://www.imdb.com/search/title/?groups=top_1000&count=100&start='+ str(page)+'&ref_=adv_nxt'\n",
    "    data_page = requests.get(url,headers={\"Accept-Language\": \"en-US\"})\n",
    "    print(url)\n",
    "    titles = [] # List chứa các tiêu đề\n",
    "    certificates = [] # List chứa các chứng chỉ của phim\n",
    "    ratings = [] # List chứa điểm đánh giá của phim\n",
    "    genres = [] # List chứa các thể loại của phim\n",
    "    votes =[] # List chứa số lượng vote cho phim\n",
    "    metascores = [] # List chứa điểm đánh giá trung bình của phim từ 0 - 100\n",
    "    runtime_list = [] # List chứa thời lượng phim\n",
    "    directors_list = [] # List chứa các đạo diễn của phim\n",
    "    stars_list = [] # List chứa các ngôi sao của phim\n",
    "    grosses_list =[] # List chứa doanh thu của phim\n",
    "    introduction_list = [] # List chứa giới thiệu nội dung của phim\n",
    "    produce_year_list = [] # List chứa năm sản xuất của phim\n",
    "    soup = BeautifulSoup(data_page.text)\n",
    "    list_item_content = soup.findAll('div',class_ = 'lister-item-content')\n",
    "    print(len(list_item_content))\n",
    "    for movie_content in list_item_content:\n",
    "        list_muted_text = movie_content.findAll('p',class_='text-muted')\n",
    "        introduction_list.append(list_muted_text[1].text.replace(\"\\n \",\"\"))\n",
    "        item_header = movie_content.find('h3',class_='lister-item-header')\n",
    "        title = item_header.find('a')\n",
    "        rating = movie_content.find('strong')\n",
    "        certificate = movie_content.find('span',class_ = 'certificate')\n",
    "        vote = movie_content.find('p',class_ ='sort-num_votes-visible')\n",
    "        genre = movie_content.find('span',class_='genre')\n",
    "        metascore = movie_content.find('span',class_='metascore favorable')\n",
    "        runtime = movie_content.find('span',class_='runtime')\n",
    "        p_content = movie_content.find('p',class_='')\n",
    "        produce_year = movie_content.find('span',class_='lister-item-year')\n",
    "        produce_year = produce_year.text.replace(\"(\",\"\")\n",
    "        produce_year = produce_year.replace(\")\",\"\")\n",
    "        produce_year_list.append(produce_year)\n",
    "        if p_content != None:\n",
    "            p_content_split = p_content.text.split('|')\n",
    "            directors = p_content_split[0].replace(\"\\n\",\"\")\n",
    "            directors = directors.replace(\"Director:\",\"\")\n",
    "            directors = directors.replace(\"Directors:\",\"\")\n",
    "            stars = p_content_split[1].replace(\"\\n\",\"\")\n",
    "            stars = stars.replace(\"Stars:\",\"\")\n",
    "            stars_list.append(stars)\n",
    "            directors_list.append(directors)\n",
    "        else:\n",
    "            directors_list.append(None)\n",
    "            stars_list.append(None)\n",
    "        if certificate != None:\n",
    "            certificates.append(certificate.text.strip())\n",
    "        else:\n",
    "            certificates.append(certificate)\n",
    "        if \"|\" in vote.text:\n",
    "            vote_gross = vote.text.split(\"|\")\n",
    "            vote_value = vote_gross[0]\n",
    "            vote_value = vote_value.replace(\"\\n\",\"\")\n",
    "            vote_value = vote_value.replace(\",\",\"\")\n",
    "            vote_value = vote_value.replace(\"Votes:\",\"\")\n",
    "            gross_value = vote_gross[1]\n",
    "            gross_value = gross_value.replace(\"\\n\",\"\")\n",
    "            gross_value = gross_value.replace(\"Gross:\",\"\")\n",
    "            gross_value = gross_value.replace(\"$\",\"\")\n",
    "            gross_value = gross_value.replace(\"M\",\"\")\n",
    "            gross_value = gross_value.replace(\" \",\"\")\n",
    "            votes.append(vote_value)\n",
    "            grosses_list.append(gross_value)\n",
    "        else:\n",
    "            vote_value = vote.text.replace(\"\\n\",\"\")\n",
    "            vote_value = vote_value.replace(\"Votes:\",\"\")\n",
    "            vote_value = vote_value.replace(\",\",\"\")\n",
    "            votes.append(vote_value)\n",
    "            grosses_list.append(None)\n",
    "        if rating != None:\n",
    "            ratings.append(rating.text.strip())\n",
    "        else:\n",
    "            ratings.append(rating)\n",
    "        if title != None:\n",
    "            titles.append(title.text.strip())\n",
    "        else:\n",
    "            titles.append(title)\n",
    "        if genre != None:\n",
    "            genres_text = genre.text.replace(\" \",\"\")\n",
    "            genres_text = genres_text.strip()\n",
    "            genres.append(genres_text)\n",
    "        else:\n",
    "            genres.append(genre)\n",
    "        if metascore != None:\n",
    "            metascores.append(metascore.text.strip())\n",
    "        else:\n",
    "            metascores.append(metascore)\n",
    "        if runtime != None:\n",
    "            runtime_text = runtime.text.strip()\n",
    "            runtime_text = runtime_text.replace(\" min\",\"\")\n",
    "            runtime_list.append(runtime_text)\n",
    "        else:\n",
    "            runtime_list.append(runtime)\n",
    "\n",
    "    df = pd.DataFrame({\n",
    "                       'titles':titles,\n",
    "                       'genres':genres,\n",
    "                       'certificates':certificates,\n",
    "                       'votes':votes,\n",
    "                       'metascores':metascores,\n",
    "                       'ratings':ratings,\n",
    "                       'directors':directors_list,\n",
    "                       'stars':stars_list,\n",
    "                       \"gross\":grosses_list,\n",
    "                      'introduction':introduction_list,\n",
    "                      'produce_year':produce_year_list,\n",
    "                      'runtime':runtime_list,\n",
    "                       'ratings':ratings})\n",
    "    movie_df = movie_df.append(df)\n",
    "    page = page + 100\n",
    "    if page > 1000:\n",
    "        break"
   ]
  },
  {
   "cell_type": "code",
   "execution_count": 15,
   "metadata": {},
   "outputs": [
    {
     "output_type": "execute_result",
     "data": {
      "text/plain": [
       "              titles                      genres certificates   votes  \\\n",
       "0               Soul  Animation,Adventure,Comedy           PG  126286   \n",
       "1      Another Round                Comedy,Drama    Not Rated   26017   \n",
       "2  Avengers: Endgame      Action,Adventure,Drama        PG-13  800050   \n",
       "3      The Gentlemen         Action,Comedy,Crime            R  230044   \n",
       "4           Parasite       Comedy,Drama,Thriller            R  540872   \n",
       "\n",
       "  metascores ratings                     directors  \\\n",
       "0         83     8.1      Pete Docter, Kemp Powers   \n",
       "1         81     7.8             Thomas Vinterberg   \n",
       "2         78     8.4      Anthony Russo, Joe Russo   \n",
       "3       None     7.8                   Guy Ritchie   \n",
       "4         96     8.6                  Bong Joon Ho   \n",
       "\n",
       "                                               stars   gross  \\\n",
       "0       Jamie Foxx, Tina Fey, Graham Norton, Rach...    None   \n",
       "1       Mads Mikkelsen, Thomas Bo Larsen, Magnus ...    None   \n",
       "2       Robert Downey Jr., Chris Evans, Mark Ruff...  858.37   \n",
       "3       Matthew McConaughey, Charlie Hunnam, Mich...    None   \n",
       "4       Song Kang-Ho, Lee Sun-kyun, Cho Yeo-jeong...   53.37   \n",
       "\n",
       "                                        introduction produce_year runtime  \n",
       "0     A musician who has lost his passion for mus...         2020     100  \n",
       "1     Four friends, all high school teachers, tes...         2020     117  \n",
       "2     After the devastating events of Avengers: I...         2019     181  \n",
       "3     An American expat tries to sell off his hig...         2019     113  \n",
       "4     Greed and class discrimination threaten the...         2019     132  "
      ],
      "text/html": "<div>\n<style scoped>\n    .dataframe tbody tr th:only-of-type {\n        vertical-align: middle;\n    }\n\n    .dataframe tbody tr th {\n        vertical-align: top;\n    }\n\n    .dataframe thead th {\n        text-align: right;\n    }\n</style>\n<table border=\"1\" class=\"dataframe\">\n  <thead>\n    <tr style=\"text-align: right;\">\n      <th></th>\n      <th>titles</th>\n      <th>genres</th>\n      <th>certificates</th>\n      <th>votes</th>\n      <th>metascores</th>\n      <th>ratings</th>\n      <th>directors</th>\n      <th>stars</th>\n      <th>gross</th>\n      <th>introduction</th>\n      <th>produce_year</th>\n      <th>runtime</th>\n    </tr>\n  </thead>\n  <tbody>\n    <tr>\n      <th>0</th>\n      <td>Soul</td>\n      <td>Animation,Adventure,Comedy</td>\n      <td>PG</td>\n      <td>126286</td>\n      <td>83</td>\n      <td>8.1</td>\n      <td>Pete Docter, Kemp Powers</td>\n      <td>Jamie Foxx, Tina Fey, Graham Norton, Rach...</td>\n      <td>None</td>\n      <td>A musician who has lost his passion for mus...</td>\n      <td>2020</td>\n      <td>100</td>\n    </tr>\n    <tr>\n      <th>1</th>\n      <td>Another Round</td>\n      <td>Comedy,Drama</td>\n      <td>Not Rated</td>\n      <td>26017</td>\n      <td>81</td>\n      <td>7.8</td>\n      <td>Thomas Vinterberg</td>\n      <td>Mads Mikkelsen, Thomas Bo Larsen, Magnus ...</td>\n      <td>None</td>\n      <td>Four friends, all high school teachers, tes...</td>\n      <td>2020</td>\n      <td>117</td>\n    </tr>\n    <tr>\n      <th>2</th>\n      <td>Avengers: Endgame</td>\n      <td>Action,Adventure,Drama</td>\n      <td>PG-13</td>\n      <td>800050</td>\n      <td>78</td>\n      <td>8.4</td>\n      <td>Anthony Russo, Joe Russo</td>\n      <td>Robert Downey Jr., Chris Evans, Mark Ruff...</td>\n      <td>858.37</td>\n      <td>After the devastating events of Avengers: I...</td>\n      <td>2019</td>\n      <td>181</td>\n    </tr>\n    <tr>\n      <th>3</th>\n      <td>The Gentlemen</td>\n      <td>Action,Comedy,Crime</td>\n      <td>R</td>\n      <td>230044</td>\n      <td>None</td>\n      <td>7.8</td>\n      <td>Guy Ritchie</td>\n      <td>Matthew McConaughey, Charlie Hunnam, Mich...</td>\n      <td>None</td>\n      <td>An American expat tries to sell off his hig...</td>\n      <td>2019</td>\n      <td>113</td>\n    </tr>\n    <tr>\n      <th>4</th>\n      <td>Parasite</td>\n      <td>Comedy,Drama,Thriller</td>\n      <td>R</td>\n      <td>540872</td>\n      <td>96</td>\n      <td>8.6</td>\n      <td>Bong Joon Ho</td>\n      <td>Song Kang-Ho, Lee Sun-kyun, Cho Yeo-jeong...</td>\n      <td>53.37</td>\n      <td>Greed and class discrimination threaten the...</td>\n      <td>2019</td>\n      <td>132</td>\n    </tr>\n  </tbody>\n</table>\n</div>"
     },
     "metadata": {},
     "execution_count": 15
    }
   ],
   "source": [
    "movie_df.head()"
   ]
  },
  {
   "cell_type": "code",
   "execution_count": 16,
   "metadata": {},
   "outputs": [],
   "source": [
    "movie_df.to_csv(\"movie_IMDB.csv\",encoding=\"utf-8\",index=False)"
   ]
  }
 ]
}